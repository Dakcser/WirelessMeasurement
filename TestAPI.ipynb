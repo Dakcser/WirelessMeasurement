{
 "cells": [
  {
   "cell_type": "code",
   "execution_count": 1,
   "id": "b7b9ff9f",
   "metadata": {},
   "outputs": [],
   "source": [
    "import numpy as np\n",
    "import requests\n",
    "import json\n",
    "import apikey\n",
    "from requests.auth import HTTPBasicAuth\n",
    "import matplotlib.pyplot as plt"
   ]
  },
  {
   "cell_type": "code",
   "execution_count": 2,
   "id": "1573a52b",
   "metadata": {},
   "outputs": [],
   "source": [
    "#smart campus api key\n",
    "headers = {\n",
    "    'Content-type': 'application/json', \n",
    "    'Authorization': f'{apikey.APIKEY}',\n",
    "}"
   ]
  },
  {
   "cell_type": "code",
   "execution_count": null,
   "id": "7054f28a",
   "metadata": {},
   "outputs": [],
   "source": [
    "# Set the API endpoint and request all devices\n",
    "url = 'https://query-api.rahtiapp.fi/events'\n",
    "devices = []\n",
    "\n",
    "# Send the API request\n",
    "response = requests.get(url, headers=headers)\n",
    "\n",
    "# Check the response status code\n",
    "if response.status_code == 200:\n",
    "    # Print the sensor data\n",
    "    sensor_data = response.iter_lines()\n",
    "    print(sensor_data)\n",
    "else:\n",
    "    print(\"Error: API request failed with status code\", response.status_code)\n"
   ]
  },
  {
   "cell_type": "code",
   "execution_count": null,
   "id": "4508f66d",
   "metadata": {},
   "outputs": [],
   "source": [
    "devices = []\n",
    "devicesInFloorOne = []\n",
    "\n",
    "#loop through all devices API gave\n",
    "    \n",
    "for line in response.iter_lines(decode_unicode=True):\n",
    "    print(line)\n",
    "    devices.append(json.loads(line))\n",
    "\n"
   ]
  },
  {
   "cell_type": "code",
   "execution_count": null,
   "id": "311d2df6",
   "metadata": {},
   "outputs": [],
   "source": [
    "devices[0][0]"
   ]
  },
  {
   "cell_type": "code",
   "execution_count": null,
   "id": "2aa19b11",
   "metadata": {},
   "outputs": [],
   "source": [
    "# Complete ISO-8601 date format // 2015-03-04T00:00:00.000Z // \n",
    "devices[0][0][\"time\"]"
   ]
  },
  {
   "cell_type": "code",
   "execution_count": null,
   "id": "58758d3a",
   "metadata": {},
   "outputs": [],
   "source": [
    "device_id_list = [device[\"deveui\"] for device in devices[0]]\n",
    "\n",
    "# 210 devices\n",
    "device_id_list"
   ]
  },
  {
   "cell_type": "code",
   "execution_count": null,
   "id": "b3211e27",
   "metadata": {},
   "outputs": [],
   "source": [
    "# API with sensor values uses IDs with lower cases and dashes,\n",
    "# while the API with location data uses them with upper cases and without dashes\n",
    "\n",
    "# Form a dictionary for ID mapping\n",
    "idDict = {}\n",
    "for id in device_id_list:\n",
    "    tempId = id.replace(\"-\", '').upper()\n",
    "    idDict[id] = tempId\n",
    "\n",
    "print(device_id_list[0])\n",
    "print(idDict[device_id_list[0]])"
   ]
  },
  {
   "cell_type": "markdown",
   "id": "2f147f51",
   "metadata": {},
   "source": [
    "# Get sensor locations from old API"
   ]
  },
  {
   "cell_type": "code",
   "execution_count": null,
   "id": "0b3ee49d",
   "metadata": {},
   "outputs": [],
   "source": [
    "# Set the API endpoint and request all devices\n",
    "url = 'https://smartcampus.oulu.fi/manage/api/devices/listAll'\n",
    "old_sensor_data = []\n",
    "\n",
    "# Send the API request\n",
    "response = requests.get(url)\n",
    "\n",
    "# Check the response status code\n",
    "if response.status_code == 200:\n",
    "    print(\"200\")\n",
    "else:\n",
    "    print(\"Error: API request failed with status code\", response.status_code)\n",
    "    \n",
    "for line in response.iter_lines(decode_unicode=True):\n",
    "    old_sensor_data.append(json.loads(line))"
   ]
  },
  {
   "cell_type": "code",
   "execution_count": null,
   "id": "0a474f8e",
   "metadata": {},
   "outputs": [],
   "source": [
    "#Input\n",
    "old_sensor_data[0][0]"
   ]
  },
  {
   "cell_type": "code",
   "execution_count": null,
   "id": "b642c38d",
   "metadata": {},
   "outputs": [],
   "source": [
    "old_sensor_data[0][0][\"deviceId\"]"
   ]
  },
  {
   "cell_type": "code",
   "execution_count": null,
   "id": "4309c563",
   "metadata": {},
   "outputs": [],
   "source": [
    "#jsut location\n",
    "old_sensor_data[0][0]['location']"
   ]
  },
  {
   "cell_type": "code",
   "execution_count": null,
   "id": "b24e860a",
   "metadata": {},
   "outputs": [],
   "source": [
    "old_sensor_locations = []\n",
    "for line in old_sensor_data[0]:\n",
    "    print(line)\n",
    "    try:\n",
    "        old_sensor_locations.append((line[\"deviceId\"], line['location']['coordinates']))\n",
    "    except TypeError:\n",
    "        continue\n",
    "    \n",
    "    \n",
    "    \n",
    "old_sensor_locations"
   ]
  },
  {
   "cell_type": "code",
   "execution_count": null,
   "id": "54b59462",
   "metadata": {},
   "outputs": [],
   "source": [
    "import folium\n",
    "from folium import plugins\n",
    "import pandas as pd\n",
    "import matplotlib.pyplot as plt\n",
    "import seaborn as sns\n"
   ]
  },
  {
   "cell_type": "code",
   "execution_count": null,
   "id": "234272c3",
   "metadata": {},
   "outputs": [],
   "source": [
    "m = folium.Map([65.06, 25.467], zoom_start=14.5)\n",
    "m"
   ]
  },
  {
   "cell_type": "code",
   "execution_count": null,
   "id": "7c2f490e",
   "metadata": {},
   "outputs": [],
   "source": [
    "#add point \n",
    "65.05963\n",
    "for loc in old_sensor_locations:        \n",
    "    location = loc[1]\n",
    "    folium.CircleMarker(location, radius=5, fill_color=\"#3db7e4\").add_to(m)\n",
    "m"
   ]
  },
  {
   "cell_type": "code",
   "execution_count": null,
   "id": "7f84deda",
   "metadata": {},
   "outputs": [],
   "source": [
    "#create similar location dictionary\n",
    "\n",
    "for index, row in divvyStations.iterrows():\n",
    "    folium.CircleMarker(\n",
    "                        [row['Ypos'],row['Xpos']],\n",
    "                        radius=15,\n",
    "                        #popup=row['Density'],\n",
    "                        fill_color=\"#3db7e4\", # divvy color\n",
    "                       ).add_to(m)"
   ]
  }
 ],
 "metadata": {
  "kernelspec": {
   "display_name": "Python 3 (ipykernel)",
   "language": "python",
   "name": "python3"
  },
  "language_info": {
   "codemirror_mode": {
    "name": "ipython",
    "version": 3
   },
   "file_extension": ".py",
   "mimetype": "text/x-python",
   "name": "python",
   "nbconvert_exporter": "python",
   "pygments_lexer": "ipython3",
   "version": "3.11.0"
  }
 },
 "nbformat": 4,
 "nbformat_minor": 5
}
