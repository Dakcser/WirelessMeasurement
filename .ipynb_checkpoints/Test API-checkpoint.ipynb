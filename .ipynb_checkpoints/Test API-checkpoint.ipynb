{
 "cells": [
  {
   "cell_type": "code",
   "execution_count": 8,
   "id": "b7b9ff9f",
   "metadata": {},
   "outputs": [],
   "source": [
    "import numpy as np\n",
    "import requests\n",
    "import json\n",
    "import apikey\n",
    "from requests.auth import HTTPBasicAuth"
   ]
  },
  {
   "cell_type": "code",
   "execution_count": 10,
   "id": "1573a52b",
   "metadata": {},
   "outputs": [],
   "source": [
    "#smart campus api key\n",
    "headers = {\n",
    "    'Content-type': 'application/json', \n",
    "    'Authorization': f'{apikey.APIKEY}',\n",
    "}"
   ]
  },
  {
   "cell_type": "code",
   "execution_count": 11,
   "id": "7054f28a",
   "metadata": {},
   "outputs": [
    {
     "name": "stdout",
     "output_type": "stream",
     "text": [
      "<generator object Response.iter_lines at 0x0000022E28921F40>\n"
     ]
    }
   ],
   "source": [
    "# Set the API endpoint and request all devices\n",
    "url = 'https://query-api.rahtiapp.fi/events'\n",
    "devices = []\n",
    "\n",
    "# Send the API request\n",
    "response = requests.get(url, headers=headers)\n",
    "\n",
    "# Check the response status code\n",
    "if response.status_code == 200:\n",
    "    # Print the sensor data\n",
    "    sensor_data = response.iter_lines()\n",
    "    print(sensor_data)\n",
    "else:\n",
    "    print(\"Error: API request failed with status code\", response.status_code)\n"
   ]
  },
  {
   "cell_type": "code",
   "execution_count": null,
   "id": "4508f66d",
   "metadata": {},
   "outputs": [],
   "source": [
    "devices = []\n",
    "devicesInFloorOne = []\n",
    "\n",
    "#loop through all devices API gave\n",
    "    \n",
    "for line in response.iter_lines(decode_unicode=True):\n",
    "    print(line)\n",
    "    devices.append(json.loads(line))\n",
    "\n",
    "print(devices[0])    \n",
    "#for device in devices:\n",
    "#    if device.get('floor') == '1':\n",
    "#        devicesInFloorOne.append(device)\n",
    "        \n",
    "#print(devicesInFloorOne[0])\n",
    "    \n",
    "#File format, sensor data\n",
    "\n",
    "# \"id\":\"A81758FFFE046433\",\n",
    "# \"type\":\"Elsys ERS Sound\",\n",
    "# \"floor\":\"4\",\n",
    "# \"status\":\"offline\",\n",
    "# \"installed\":\"2020-06-06T00:00:00.000Z\",\n",
    "# \"desc\":\"Attached to old video projector mount\",\n",
    "# \"location\":[\"65.05765\",\"25.46897\"],\n",
    "# \"addedBy\":\"risto\""
   ]
  },
  {
   "cell_type": "code",
   "execution_count": null,
   "id": "58758d3a",
   "metadata": {},
   "outputs": [],
   "source": []
  },
  {
   "cell_type": "code",
   "execution_count": null,
   "id": "54b59462",
   "metadata": {},
   "outputs": [],
   "source": []
  },
  {
   "cell_type": "code",
   "execution_count": null,
   "id": "234272c3",
   "metadata": {},
   "outputs": [],
   "source": []
  }
 ],
 "metadata": {
  "kernelspec": {
   "display_name": "Python 3 (ipykernel)",
   "language": "python",
   "name": "python3"
  },
  "language_info": {
   "codemirror_mode": {
    "name": "ipython",
    "version": 3
   },
   "file_extension": ".py",
   "mimetype": "text/x-python",
   "name": "python",
   "nbconvert_exporter": "python",
   "pygments_lexer": "ipython3",
   "version": "3.11.0"
  }
 },
 "nbformat": 4,
 "nbformat_minor": 5
}
